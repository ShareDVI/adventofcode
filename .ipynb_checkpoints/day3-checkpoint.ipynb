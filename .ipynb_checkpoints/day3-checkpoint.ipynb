{
 "cells": [
  {
   "cell_type": "code",
   "execution_count": 74,
   "metadata": {
    "collapsed": false,
    "scrolled": false
   },
   "outputs": [
    {
     "name": "stdout",
     "output_type": "stream",
     "text": [
      "2081\n",
      "2341\n"
     ]
    }
   ],
   "source": [
    "import os\n",
    "import numpy as np\n",
    "import math\n",
    "\n",
    "\n",
    "def count_visited_houses(moves, performers=1):\n",
    "    count = 0\n",
    "    current_performer = 0\n",
    "    width = 11\n",
    "    height = 11\n",
    "\n",
    "    if performers <= 0:\n",
    "        return 0\n",
    "\n",
    "    x = np.full(performers, int(math.floor(width / 2)), dtype=int)\n",
    "    y = np.full(performers, int(math.floor(height / 2)), dtype=int)\n",
    "    houses = np.zeros((width, height), dtype=int)\n",
    "\n",
    "    houses[y[0], x[0]] += performers\n",
    "    count += 1\n",
    "\n",
    "    for move in moves:\n",
    "        if move == '^':\n",
    "            y[current_performer] += 1\n",
    "        elif move == 'v':\n",
    "            y[current_performer] -= 1\n",
    "        elif move == '<':\n",
    "            x[current_performer] -= 1\n",
    "        elif move == '>':\n",
    "            x[current_performer] += 1\n",
    "\n",
    "        if x[current_performer] < 0:\n",
    "            houses = np.insert(houses, 0, [0], axis=1)\n",
    "            width += 1\n",
    "            x += 1  # shift all\n",
    "        elif x[current_performer] >= width:\n",
    "            houses = np.insert(houses, width, [0], axis=1)\n",
    "            width += 1\n",
    "        elif y[current_performer] < 0:\n",
    "            houses = np.insert(houses, 0, [0], axis=0)\n",
    "            height += 1\n",
    "            y += 1  # shift all\n",
    "        elif y[current_performer] >= height:\n",
    "            houses = np.insert(houses, height, [0], axis=0)\n",
    "            height += 1\n",
    "\n",
    "        if houses[y[current_performer], x[current_performer]] == 0:\n",
    "            count += 1\n",
    "        houses[y[current_performer], x[current_performer]] += 1\n",
    "\n",
    "        current_performer += 1\n",
    "        if current_performer >= performers:\n",
    "            current_performer = 0\n",
    "\n",
    "    return count\n",
    "\n",
    "\n",
    "with open(os.path.dirname(os.path.realpath('__file__')) + \"/day3.txt\", \"r\") as datafile:\n",
    "    data = datafile.read().replace('\\n', '')\n",
    "print(count_visited_houses(data, 1))  # Santa\n",
    "print(count_visited_houses(data, 2))  # Santa + RoboSanta\n"
   ]
  }
 ],
 "metadata": {
  "kernelspec": {
   "display_name": "Python 3",
   "language": "python",
   "name": "python3"
  },
  "language_info": {
   "codemirror_mode": {
    "name": "ipython",
    "version": 3
   },
   "file_extension": ".py",
   "mimetype": "text/x-python",
   "name": "python",
   "nbconvert_exporter": "python",
   "pygments_lexer": "ipython3",
   "version": "3.5.0"
  }
 },
 "nbformat": 4,
 "nbformat_minor": 0
}
