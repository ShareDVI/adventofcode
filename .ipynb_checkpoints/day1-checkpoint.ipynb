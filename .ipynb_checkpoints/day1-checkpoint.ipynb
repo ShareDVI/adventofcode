{
 "cells": [
  {
   "cell_type": "code",
   "execution_count": 2,
   "metadata": {
    "collapsed": false
   },
   "outputs": [
    {
     "name": "stdout",
     "output_type": "stream",
     "text": [
      "{'Basement first entered on step:': 1795, 'Floor': 74}\n"
     ]
    }
   ],
   "source": [
    "import os\n",
    "\n",
    "\n",
    "def count_floors(floor_string):\n",
    "    floor = 0 \n",
    "    i = 0\n",
    "    basement_enter = 0\n",
    "    for char in floor_string:\n",
    "        i += 1\n",
    "        if char == '(': \n",
    "            floor += 1\n",
    "        elif char == ')':\n",
    "            floor -= 1\n",
    "        if floor < 0 and basement_enter == 0:\n",
    "            basement_enter = i\n",
    "    return {'Floor':floor, 'Basement first entered on step:':basement_enter}\n",
    "\n",
    "\n",
    "with open(os.path.dirname(os.path.realpath('__file__')) + \"/day1.txt\", \"r\") as datafile:\n",
    "    data = datafile.read().replace('\\n', '')\n",
    "print(count_floors(data))\n",
    "\n"
   ]
  },
  {
   "cell_type": "code",
   "execution_count": null,
   "metadata": {
    "collapsed": true
   },
   "outputs": [],
   "source": []
  }
 ],
 "metadata": {
  "kernelspec": {
   "display_name": "Python 3",
   "language": "python",
   "name": "python3"
  },
  "language_info": {
   "codemirror_mode": {
    "name": "ipython",
    "version": 3
   },
   "file_extension": ".py",
   "mimetype": "text/x-python",
   "name": "python",
   "nbconvert_exporter": "python",
   "pygments_lexer": "ipython3",
   "version": "3.5.0"
  }
 },
 "nbformat": 4,
 "nbformat_minor": 0
}
