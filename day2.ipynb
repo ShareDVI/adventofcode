{
 "cells": [
  {
   "cell_type": "code",
   "execution_count": 14,
   "metadata": {
    "collapsed": false
   },
   "outputs": [
    {
     "name": "stdout",
     "output_type": "stream",
     "text": [
      "(1586300.0, 3737498.0)\n"
     ]
    }
   ],
   "source": [
    "import os\n",
    "from numpy import product\n",
    "\n",
    "\n",
    "def present_wrap_area(dimensions):\n",
    "    wrap_area = 0\n",
    "    sides = list()\n",
    "    for i in range(0, 3):\n",
    "        for j in range(i+1, 3):\n",
    "            sides.append(dimensions[i] * dimensions[j])\n",
    "    for i in range(0, len(sides)): \n",
    "        wrap_area += 2 * sides[i] \n",
    "    wrap_area += min(sides)\n",
    "    \n",
    "    return wrap_area\n",
    "\n",
    "\n",
    "def present_ribbon_length(dimensions):\n",
    "    ribbon_length = product(dimensions)  \n",
    "    sorted_dims=sorted(dimensions)\n",
    "    ribbon_length += 2 * (sorted_dims[0]+sorted_dims[1])\n",
    "    \n",
    "    return ribbon_length\n",
    "\n",
    "\n",
    "def presents(sets_of_dimensions):\n",
    "    return sum([present_wrap_area(dimensions) for dimensions in sets_of_dimensions]), \\\n",
    "           sum([present_ribbon_length(dimensions) for dimensions in sets_of_dimensions])\n",
    "\n",
    "sets_of_dims = list()\n",
    "with open(os.path.dirname(os.path.realpath('__file__')) + \"/day2.txt\", \"r\") as datafile:\n",
    "    for line in datafile:\n",
    "        sets_of_dims.append([float(s) for s in line.rstrip(\"\\n\").split(\"x\")])\n",
    "\n",
    "print(presents(sets_of_dims))"
   ]
  }
 ],
 "metadata": {
  "kernelspec": {
   "display_name": "Python 3",
   "language": "python",
   "name": "python3"
  },
  "language_info": {
   "codemirror_mode": {
    "name": "ipython",
    "version": 3
   },
   "file_extension": ".py",
   "mimetype": "text/x-python",
   "name": "python",
   "nbconvert_exporter": "python",
   "pygments_lexer": "ipython3",
   "version": "3.5.0"
  }
 },
 "nbformat": 4,
 "nbformat_minor": 0
}
