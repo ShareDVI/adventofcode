{
 "cells": [
  {
   "cell_type": "code",
   "execution_count": 3,
   "metadata": {
    "collapsed": false
   },
   "outputs": [
    {
     "name": "stdout",
     "output_type": "stream",
     "text": [
      "258\n",
      "53\n"
     ]
    }
   ],
   "source": [
    "#!/usr/bin/python\n",
    "# -*- coding: utf-8 -*-\n",
    "\"\"\"Day 5 of AdventOfCode.com: the Regex challenge\"\"\"\n",
    "import re\n",
    "import os\n",
    "\n",
    "\n",
    "class RegexMatchCounter:\n",
    "    \"\"\"This class counts strings which satisfy all specified regular expressions\n",
    "\n",
    "    \"\"\"\n",
    "    def __init__(self, regex_strings):\n",
    "        \"\"\"The constructor needs a list of valid regular expressions.\n",
    "        :param regex_strings: list of valid regular expressions to be matched\"\"\"\n",
    "        self.__regexes = [re.compile(regex) for regex in regex_strings]\n",
    "        self.__count = 0\n",
    "\n",
    "    def check(self, target):\n",
    "        \"\"\"This method checks its string argument against regexes and, if all of them matched, increases the counter\n",
    "        :param target: string to be matched\n",
    "        \"\"\"\n",
    "        if all(reg.search(target) is not None for reg in self.__regexes):\n",
    "            self.__count += 1\n",
    "\n",
    "    def count(self):\n",
    "        \"\"\":returns: the current value of how many strings have matched regexes\n",
    "        \"\"\"\n",
    "        return self.__count\n",
    "       \n",
    "       \n",
    "matchers = [\n",
    " RegexMatchCounter([r'[aeiou].*[aeiou].*[aeiou]', r'(.)\\1', r'^((?!(ab)|(cd)|(pq)|(xy)).)*$']),\n",
    " RegexMatchCounter([r'(..).*\\1',                  r'(.).\\1'])\n",
    "]\n",
    "\n",
    "with open(os.path.dirname(os.path.realpath('__file__')) + \"/day5.txt\", \"r\") as datafile:\n",
    "    for line in datafile:\n",
    "        for matcher in matchers:\n",
    "            matcher.check(line)\n",
    "for matcher in matchers:\n",
    "    print(matcher.count())\n"
   ]
  },
  {
   "cell_type": "code",
   "execution_count": null,
   "metadata": {
    "collapsed": true
   },
   "outputs": [],
   "source": []
  }
 ],
 "metadata": {
  "kernelspec": {
   "display_name": "Python 3",
   "language": "python",
   "name": "python3"
  },
  "language_info": {
   "codemirror_mode": {
    "name": "ipython",
    "version": 3
   },
   "file_extension": ".py",
   "mimetype": "text/x-python",
   "name": "python",
   "nbconvert_exporter": "python",
   "pygments_lexer": "ipython3",
   "version": "3.5.0"
  }
 },
 "nbformat": 4,
 "nbformat_minor": 0
}
