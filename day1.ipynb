{
 "cells": [
  {
   "cell_type": "code",
   "execution_count": 5,
   "metadata": {
    "collapsed": false
   },
   "outputs": [
    {
     "name": "stdout",
     "output_type": "stream",
     "text": [
      "{'Floor': 74, 'Basement first entered on step:': 1795}\n"
     ]
    }
   ],
   "source": [
    "def count_floors(floor_string):\n",
    "    floor = 0 \n",
    "    i = 0\n",
    "    basement_enter = 0\n",
    "    for char in floor_string:\n",
    "        i += 1\n",
    "        if char == '(': \n",
    "            floor += 1\n",
    "        elif char == ')':\n",
    "            floor -= 1\n",
    "        if floor < 0 and basement_enter == 0:\n",
    "            basement_enter = i\n",
    "    return {'Floor':floor, 'Basement first entered on step:':basement_enter}\n",
    "\n",
    "\n",
    "with open(\"/home/sharedvi/Advent/day1.txt\", \"r\") as datafile:\n",
    "    data = datafile.read().replace('\\n', '')\n",
    "print(count_floors(data))\n"
   ]
  }
 ],
 "metadata": {
  "kernelspec": {
   "display_name": "Python 3",
   "language": "python",
   "name": "python3"
  },
  "language_info": {
   "codemirror_mode": {
    "name": "ipython",
    "version": 3
   },
   "file_extension": ".py",
   "mimetype": "text/x-python",
   "name": "python",
   "nbconvert_exporter": "python",
   "pygments_lexer": "ipython3",
   "version": "3.5.0"
  }
 },
 "nbformat": 4,
 "nbformat_minor": 0
}
