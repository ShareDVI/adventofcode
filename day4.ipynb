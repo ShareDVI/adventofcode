{
 "cells": [
  {
   "cell_type": "code",
   "execution_count": 5,
   "metadata": {
    "collapsed": false
   },
   "outputs": [
    {
     "name": "stdout",
     "output_type": "stream",
     "text": [
      "117946\n",
      "3938038\n"
     ]
    }
   ],
   "source": [
    "import os\n",
    "import hashlib\n",
    "\n",
    "\n",
    "def adventcoin_mine(salt, zeros):\n",
    "    i = 1\n",
    "    md5_hash = hashlib.md5((salt+\"1\").encode('utf8')).hexdigest()\n",
    "    while md5_hash[:zeros] != \"\".rjust(zeros, '0'):\n",
    "        i += 1\n",
    "        md5_hash = hashlib.md5((salt+str(i)).encode('utf8')).hexdigest()\n",
    "    return i\n",
    "\n",
    "with open(os.path.dirname(os.path.realpath('__file__')) + \"/day4.txt\", \"r\") as datafile:\n",
    "    data = datafile.read().replace('\\n', '')\n",
    "\n",
    "print(adventcoin_mine(data, 5))\n",
    "print(adventcoin_mine(data, 6))\n"
   ]
  },
  {
   "cell_type": "markdown",
   "metadata": {},
   "source": []
  }
 ],
 "metadata": {
  "kernelspec": {
   "display_name": "Python 3",
   "language": "python",
   "name": "python3"
  },
  "language_info": {
   "codemirror_mode": {
    "name": "ipython",
    "version": 3
   },
   "file_extension": ".py",
   "mimetype": "text/x-python",
   "name": "python",
   "nbconvert_exporter": "python",
   "pygments_lexer": "ipython3",
   "version": "3.5.0"
  }
 },
 "nbformat": 4,
 "nbformat_minor": 0
}
